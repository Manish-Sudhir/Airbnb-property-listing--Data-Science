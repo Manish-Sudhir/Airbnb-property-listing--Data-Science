{
 "cells": [
  {
   "cell_type": "code",
   "execution_count": 1,
   "metadata": {},
   "outputs": [],
   "source": [
    "import boto3\n",
    "# s3_client = boto3.client('s3')\n",
    "s3 = boto3.resource('s3')\n",
    "my_bucket = s3.Bucket('imagesairbnb')"
   ]
  },
  {
   "attachments": {},
   "cell_type": "markdown",
   "metadata": {},
   "source": [
    "0a26e526-1adf-4a2a-888d-a05f7f0a2f33-a\n",
    "\n",
    "0a26e526-1adf-4a2a-888d-a05f7f0a2f33/"
   ]
  },
  {
   "cell_type": "code",
   "execution_count": 10,
   "metadata": {},
   "outputs": [
    {
     "name": "stdout",
     "output_type": "stream",
     "text": [
      "['.DS_Store', '0a26e526-1adf-4a2a-888d-a05f7f0a2f33-a.png', '0a26e526-1adf-4a2a-888d-a05f7f0a2f33-c.png', '0a26e526-1adf-4a2a-888d-a05f7f0a2f33-b.png', '0a26e526-1adf-4a2a-888d-a05f7f0a2f33-e.png', '0a26e526-1adf-4a2a-888d-a05f7f0a2f33-d.png', '0a26e526-1adf-4a2a-888d-a05f7f0a2f33']\n"
     ]
    }
   ],
   "source": [
    "from PIL import Image\n",
    "import os\n",
    "folder_path='dummy/0a26e526-1adf-4a2a-888d-a05f7f0a2f33'\n",
    "# file_name='0a26e526-1adf-4a2a-888d-a05f7f0a2f33-a.png'\n",
    "file_list = os.listdir(folder_path)\n",
    "print(file_list)\n",
    "\n",
    "\n",
    "smallest_height = float('inf')\n",
    "smallest_height_file = ''"
   ]
  },
  {
   "cell_type": "markdown",
   "metadata": {},
   "source": []
  },
  {
   "cell_type": "code",
   "execution_count": 11,
   "metadata": {},
   "outputs": [
    {
     "name": "stdout",
     "output_type": "stream",
     "text": [
      "0a26e526-1adf-4a2a-888d-a05f7f0a2f33-e.png\n",
      "350\n"
     ]
    }
   ],
   "source": [
    "# Loop through each file in the folder\n",
    "count=0\n",
    "for file in file_list:\n",
    "    # print(count+1)\n",
    "    # Check if the file is an image\n",
    "    if file.endswith('.jpg') or file.endswith('.jpeg') or file.endswith('.png'):\n",
    "        # Open the image file\n",
    "        img = Image.open(os.path.join(folder_path, file))\n",
    "        # print(count+1)\n",
    "        # Get the height of the image\n",
    "        height = img.size[1]\n",
    "        \n",
    "        # If the current image has a smaller height than the previous smallest height\n",
    "        if height < smallest_height:\n",
    "            # Update the smallest height variable and the filename variable\n",
    "            smallest_height = height\n",
    "            smallest_height_file = file\n",
    "\n",
    "print(smallest_height_file)\n",
    "print(smallest_height)\n",
    "\n",
    "# # Print the filename of the image with the smallest height\n",
    "# print(f\"The image with the smallest height is {smallest_height_file} with a height of {smallest_height} pixels.\")"
   ]
  },
  {
   "cell_type": "code",
   "execution_count": null,
   "metadata": {},
   "outputs": [],
   "source": []
  }
 ],
 "metadata": {
  "kernelspec": {
   "display_name": "Python 3",
   "language": "python",
   "name": "python3"
  },
  "language_info": {
   "codemirror_mode": {
    "name": "ipython",
    "version": 3
   },
   "file_extension": ".py",
   "mimetype": "text/x-python",
   "name": "python",
   "nbconvert_exporter": "python",
   "pygments_lexer": "ipython3",
   "version": "3.11.2"
  },
  "orig_nbformat": 4,
  "vscode": {
   "interpreter": {
    "hash": "aee8b7b246df8f9039afb4144a1f6fd8d2ca17a180786b69acc140d282b71a49"
   }
  }
 },
 "nbformat": 4,
 "nbformat_minor": 2
}
